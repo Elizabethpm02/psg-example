{
 "cells": [
  {
   "cell_type": "markdown",
   "metadata": {},
   "source": [
    "# ⚾ **Futbolito Loco** ⚾\n",
    "\n",
    "#### Descripción del Juego:\n",
    "\n",
    "**\"Futbolito Loco\"** es un juego de fútbol que combina acción rápida y mecánicas sencillas con un toque divertido y caótico. Cada equipo está compuesto por 6 jugadores con roles específicos, y los partidos se desarrollan en una cancha de fútbol pequeño con dinámicas y reglas especiales para mantener el juego emocionante.\n",
    "\n",
    "**Objetivo del Juego:**\n",
    "\n",
    "*Marcar más goles que el equipo contrario.*\n",
    "\n",
    "**Equipos y Número de Jugadores:**\n",
    "\n",
    "- 2 equipo compuesto por 6 jugadores"
   ]
  },
  {
   "cell_type": "markdown",
   "metadata": {},
   "source": [
    "#### Características del Juego:\n",
    "> Modos de Juego\n",
    "\n",
    "-  **Partido Rápido:** modo para jugar partidos rápidos contra la IA o contra otros jugadores en línea o localmente.\n",
    "-  **Torneo:** Un modo de campeonato donde los jugadores compiten en una serie de partidos para ganar la copa de *Futbolito Loco*.\n",
    "-  **Entrenamiento:** Un modo donde los jugadores pueden practicar habilidades específicas, como tiros a portería, defensa y estrategias de equipo.\n",
    "\n",
    "> Duración del Partido: \n",
    "- Dos tiempos de 20 minutos. \n",
    "\n",
    "> Variaciones y Diversión:\n",
    "- **Gol Loco:** Cada vez que un equipo marca un gol, los roles de los jugadores pueden rotar, permitiendo que todos experimenten diferentes posiciones.\n",
    "- **Elementos en el Campo:** Aparición ocasional de potenciadores (velocidad, fuerza, precisión) que pueden recoger los jugadores.\n"
   ]
  },
  {
   "cell_type": "code",
   "execution_count": 8,
   "metadata": {},
   "outputs": [
    {
     "name": "stdout",
     "output_type": "stream",
     "text": [
      "Diseño del Tablero\n",
      "********************\n",
      "*   *        *     *\n",
      "*   **********     *\n",
      "*                  *\n",
      "*                  *\n",
      "*                  *\n",
      "********************\n",
      "*                  *\n",
      "*                  *\n",
      "*                  *\n",
      "*   **********     *\n",
      "*   *        *     *\n",
      "********************\n"
     ]
    }
   ],
   "source": [
    "print(\"Diseño del Tablero\")\n",
    "\n",
    "print(\"********************\")\n",
    "print(\"*   *        *     *\")\n",
    "print(\"*   **********     *\")\n",
    "print(\"*                  *\")\n",
    "print(\"*                  *\")\n",
    "print(\"*                  *\")\n",
    "print(\"********************\")\n",
    "print(\"*                  *\")\n",
    "print(\"*                  *\")\n",
    "print(\"*                  *\")\n",
    "print(\"*   **********     *\")\n",
    "print(\"*   *        *     *\")\n",
    "print(\"********************\")"
   ]
  },
  {
   "cell_type": "markdown",
   "metadata": {},
   "source": [
    "#### Formación de los Equipos:\n",
    "Cada equipo está compuesto por los siguientes roles:\n",
    "1. Capitán\n",
    "2. Arquero\n",
    "3. Dos Delanteros\n",
    "4. Dos Defensas\n",
    "\n",
    "> Descripción de las Piezas \n",
    "- #=# Arquero\n",
    "- =:/  Defensa 1\n",
    "- =:\\  Defensa 2\n",
    "- *:() Delantero 1\n",
    "- \":() Delantero 2\n",
    "\n",
    "> Distribución de Roles en Cada Equipo:\n",
    "1. Capitán: Lidera al equipo y puede jugar en cualquier posición según sea necesario, pero generalmente actúa como un centrocampista o un organizador.\n",
    "   \n",
    "2. Arquero: Se encarga de defender la portería.\n",
    "   \n",
    "3. Defensa 1: Protege la zona defensiva y ayuda al arquero a evitar goles.\n",
    "\n",
    "4. Defensa 2: Trabaja junto con el Defensa 1 para asegurar la defensa.\n",
    "   \n",
    "5. Delantero 1: Ataca y trata de marcar goles.\n",
    "   \n",
    "6. Delantero 2: Trabaja junto con el Delantero 1 para crear oportunidades de gol."
   ]
  },
  {
   "cell_type": "code",
   "execution_count": 9,
   "metadata": {},
   "outputs": [
    {
     "name": "stdout",
     "output_type": "stream",
     "text": [
      "Arquero\n",
      "#=#\n",
      "Defensa 1\n",
      "=:/\n",
      "Defensa 2\n",
      "=:\\\n",
      "Delantero 1\n",
      "*:()\n",
      "Delantero 2\n",
      "\":()\n"
     ]
    }
   ],
   "source": [
    "print(\"Arquero\")\n",
    "print(\"#=#\")\n",
    "print(\"Defensa 1\")\n",
    "print(\"=:/\")\n",
    "print(\"Defensa 2\")\n",
    "print(\"=:\\\\\")\n",
    "print(\"Delantero 1\")\n",
    "print(\"*:()\")\n",
    "print(\"Delantero 2\")\n",
    "print('\":()')"
   ]
  }
 ],
 "metadata": {
  "kernelspec": {
   "display_name": "Python 3",
   "language": "python",
   "name": "python3"
  },
  "language_info": {
   "codemirror_mode": {
    "name": "ipython",
    "version": 3
   },
   "file_extension": ".py",
   "mimetype": "text/x-python",
   "name": "python",
   "nbconvert_exporter": "python",
   "pygments_lexer": "ipython3",
   "version": "3.12.3"
  }
 },
 "nbformat": 4,
 "nbformat_minor": 2
}
